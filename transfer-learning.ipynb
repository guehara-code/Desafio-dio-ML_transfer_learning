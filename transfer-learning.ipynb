{
 "cells": [
  {
   "cell_type": "markdown",
   "metadata": {
    "id": "92mQ2gMlYoZl"
   },
   "source": [
    "# Transfer learning / fine-tuning\n",
    "\n",
    "This tutorial will guide you through the process of using _transfer learning_ to learn an accurate image classifier from a relatively small number of training samples. Generally speaking, transfer learning refers to the process of leveraging the knowledge learned in one model for the training of another model. \n",
    "\n",
    "More specifically, the process involves taking an existing neural network which was previously trained to good performance on a larger dataset, and using it as the basis for a new model which leverages that previous network's accuracy for a new task. This method has become popular in recent years to improve the performance of a neural net trained on a small dataset; the intuition is that the new dataset may be too small to train to good performance by itself, but we know that most neural nets trained to learn image features often learn similar features anyway, especially at early layers where they are more generic (edge detectors, blobs, and so on). \n",
    "\n",
    "Transfer learning has been largely enabled by the open-sourcing of state-of-the-art models; for the top performing models in image classification tasks (like from [ILSVRC](http://www.image-net.org/challenges/LSVRC/)), it is common practice now to not only publish the architecture, but to release the trained weights of the model as well. This lets amateurs use these top image classifiers to boost the performance of their own task-specific models.\n",
    "\n",
    "#### Feature extraction vs. fine-tuning\n",
    "\n",
    "At one extreme, transfer learning can involve taking the pre-trained network and freezing the weights, and using one of its hidden layers (usually the last one) as a feature extractor, using those features as the input to a smaller neural net. \n",
    "\n",
    "At the other extreme, we start with the pre-trained network, but we allow some of the weights (usually the last layer or last few layers) to be modified. Another name for this procedure is called \"fine-tuning\" because we are slightly adjusting the pre-trained net's weights to the new task. We usually train such a network with a lower learning rate, since we expect the features are already relatively good and do not need to be changed too much. \n",
    "\n",
    "Sometimes, we do something in-between: Freeze just the early/generic layers, but fine-tune the later layers. Which strategy is best depends on the size of your dataset, the number of classes, and how much it resembles the dataset the previous model was trained on (and thus, whether it can benefit from the same learned feature extractors). A more detailed discussion of how to strategize can be found in [[1]](http://cs231n.github.io/transfer-learning/) [[2]](http://sebastianruder.com/transfer-learning/).\n",
    "\n",
    "## Procedure\n",
    "\n",
    "In this guide will go through the process of loading a state-of-the-art, 1000-class image classifier, [VGG16](https://arxiv.org/pdf/1409.1556.pdf) which [won the ImageNet challenge in 2014](http://www.robots.ox.ac.uk/~vgg/research/very_deep/), and using it as a fixed feature extractor to train a smaller custom classifier on our own images, although with very few code changes, you can try fine-tuning as well.\n",
    "\n",
    "We will first load VGG16 and remove its final layer, the 1000-class softmax classification layer specific to ImageNet, and replace it with a new classification layer for the classes we are training over. We will then freeze all the weights in the network except the new ones connecting to the new classification layer, and then train the new classification layer over our new dataset. \n",
    "\n",
    "We will also compare this method to training a small neural network from scratch on the new dataset, and as we shall see, it will dramatically improve our accuracy. We will do that part first.\n",
    "\n",
    "As our test subject, we'll use a dataset consisting of around 6000 images belonging to 97 classes, and train an image classifier with around 80% accuracy on it. It's worth noting that this strategy scales well to image sets where you may have even just a couple hundred or less images. Its performance will be lesser from a small number of samples (depending on classes) as usual, but still impressive considering the usual constraints.\n"
   ]
  },
  {
   "cell_type": "code",
   "execution_count": 2,
   "metadata": {
    "colab": {
     "base_uri": "https://localhost:8080/"
    },
    "executionInfo": {
     "elapsed": 3034,
     "status": "ok",
     "timestamp": 1673972986589,
     "user": {
      "displayName": "Gilberto Uehara",
      "userId": "11139280861294473555"
     },
     "user_tz": 180
    },
    "id": "S2rva90Fhymh",
    "outputId": "e3ce0caf-0df8-48c9-f798-8990e7496ec6"
   },
   "outputs": [
    {
     "name": "stdout",
     "output_type": "stream",
     "text": [
      "Drive already mounted at /content/drive; to attempt to forcibly remount, call drive.mount(\"/content/drive\", force_remount=True).\n"
     ]
    }
   ],
   "source": [
    "from google.colab import drive\n",
    "drive.mount('/content/drive')"
   ]
  },
  {
   "cell_type": "code",
   "execution_count": 3,
   "metadata": {
    "executionInfo": {
     "elapsed": 6151,
     "status": "ok",
     "timestamp": 1673972992737,
     "user": {
      "displayName": "Gilberto Uehara",
      "userId": "11139280861294473555"
     },
     "user_tz": 180
    },
    "id": "3p-OjhDPYoZm"
   },
   "outputs": [],
   "source": [
    "%matplotlib inline\n",
    "\n",
    "import os\n",
    "\n",
    "#if using Theano with GPU\n",
    "#os.environ[\"KERAS_BACKEND\"] = \"tensorflow\"\n",
    "\n",
    "import random\n",
    "import numpy as np\n",
    "import keras\n",
    "\n",
    "import os\n",
    "import zipfile\n",
    "\n",
    "import matplotlib.pyplot as plt\n",
    "from matplotlib.pyplot import imshow\n",
    "\n",
    "from keras.preprocessing import image\n",
    "from keras.applications.imagenet_utils import preprocess_input\n",
    "from keras.models import Sequential\n",
    "from keras.layers import Dense, Dropout, Flatten, Activation\n",
    "from keras.layers import Conv2D, MaxPooling2D\n",
    "from keras.models import Model\n",
    "from tensorflow.keras.utils import load_img, img_to_array"
   ]
  },
  {
   "cell_type": "markdown",
   "metadata": {
    "id": "VWWN-FPLYoZs"
   },
   "source": [
    "### Getting a dataset\n",
    "\n",
    "The first step is going to be to load our data. As our example, we will be using the dataset [CalTech-101](http://www.vision.caltech.edu/Image_Datasets/Caltech101/), which contains around 9000 labeled images belonging to 101 object categories. However, we will exclude 5 of the categories which have the most images. This is in order to keep the class distribution fairly balanced (around 50-100) and constrained to a smaller number of images, around 6000. \n",
    "\n",
    "To obtain this dataset, you can either run the download script `download.sh` in the `data` folder, or the following commands:\n",
    "\n",
    "    wget http://www.vision.caltech.edu/Image_Datasets/Caltech101/101_ObjectCategories.tar.gz\n",
    "    tar -xvzf 101_ObjectCategories.tar.gz\n",
    "\n",
    "If you wish to use your own dataset, it should be aranged in the same fashion to `101_ObjectCategories` with all of the images organized into subfolders, one for each class. In this case, the following cell should load your custom dataset correctly by just replacing `root` with your folder. If you have an alternate structure, you just need to make sure that you load the list `data` where every element is a dict where `x` is the data (a 1-d numpy array) and `y` is the label (an integer). Use the helper function `get_image(path)` to load the image correctly into the array, and note also that the images are being resized to 224x224. This is necessary because the input to VGG16 is a 224x224 RGB image. You do not need to resize them on your hard drive, as that is being done in the code below.\n",
    "\n",
    "If you have `101_ObjectCategories` in your data folder, the following cell should load all the data."
   ]
  },
  {
   "cell_type": "code",
   "execution_count": 4,
   "metadata": {
    "colab": {
     "base_uri": "https://localhost:8080/"
    },
    "executionInfo": {
     "elapsed": 16631,
     "status": "ok",
     "timestamp": 1673973009360,
     "user": {
      "displayName": "Gilberto Uehara",
      "userId": "11139280861294473555"
     },
     "user_tz": 180
    },
    "id": "XklKIrnaZb3f",
    "outputId": "1b5bcf58-2eb1-42dd-8d17-dde0a41acb26"
   },
   "outputs": [
    {
     "name": "stdout",
     "output_type": "stream",
     "text": [
      "Downloading 101_Object_Categories for image notebooks\n",
      "--2023-01-17 16:29:52--  https://download.microsoft.com/download/3/E/1/3E1C3F21-ECDB-4869-8368-6DEBA77B919F/kagglecatsanddogs_5340.zip\n",
      "Resolving download.microsoft.com (download.microsoft.com)... 23.36.252.210, 2600:1417:3f:f83::317f, 2600:1417:3f:f80::317f\n",
      "Connecting to download.microsoft.com (download.microsoft.com)|23.36.252.210|:443... connected.\n",
      "HTTP request sent, awaiting response... 200 OK\n",
      "Length: 824887076 (787M) [application/octet-stream]\n",
      "Saving to: ‘/tmp/cats-and-dogs.zip’\n",
      "\n",
      "/tmp/cats-and-dogs. 100%[===================>] 786.67M   105MB/s    in 6.7s    \n",
      "\n",
      "2023-01-17 16:29:59 (117 MB/s) - ‘/tmp/cats-and-dogs.zip’ saved [824887076/824887076]\n",
      "\n"
     ]
    }
   ],
   "source": [
    "!echo \"Downloading 101_Object_Categories for image notebooks\"\n",
    "!wget https://download.microsoft.com/download/3/E/1/3E1C3F21-ECDB-4869-8368-6DEBA77B919F/kagglecatsanddogs_5340.zip -O \"/tmp/cats-and-dogs.zip\"\n",
    "#!wget https://www.kaggle.com/datasets/enesumcu/car-and-truck/download?datasetVersionNumber=1 -O \"/tmp/cars-and-trucks.zip\"\n",
    "local_zip = \"/tmp/cats-and-dogs.zip\"\n",
    "zip_ref = zipfile.ZipFile(local_zip, 'r')\n",
    "zip_ref.extractall('/tmp')\n",
    "zip_ref.close()\n",
    "#curl -L -o 101_ObjectCategories.tar.gz --progress-bar http://www.vision.caltech.edu/Image_Datasets/Caltech101/101_ObjectCategories.tar.gz\n",
    "#tar -xzf 101_ObjectCategories.tar.gz\n",
    "#rm 101_ObjectCategories.tar.gz\n",
    "#ls\n"
   ]
  },
  {
   "cell_type": "code",
   "execution_count": 5,
   "metadata": {
    "colab": {
     "base_uri": "https://localhost:8080/"
    },
    "executionInfo": {
     "elapsed": 10,
     "status": "ok",
     "timestamp": 1673973009361,
     "user": {
      "displayName": "Gilberto Uehara",
      "userId": "11139280861294473555"
     },
     "user_tz": 180
    },
    "id": "8OGRcLNwYoZu",
    "outputId": "fd576e8b-4157-40b7-e333-9ab6f61d5cc4"
   },
   "outputs": [
    {
     "name": "stdout",
     "output_type": "stream",
     "text": [
      "['/tmp/PetImages/Dog', '/tmp/PetImages/Cat']\n"
     ]
    }
   ],
   "source": [
    "root = '/tmp/PetImages'\n",
    "exclude = ['BACKGROUND_Google', 'Motorbikes', 'airplanes', 'Faces_easy', 'Faces']\n",
    "train_split, val_split = 0.7, 0.15\n",
    "\n",
    "categories = [x[0] for x in os.walk(root) if x[0]][1:]\n",
    "categories = [c for c in categories if c not in [os.path.join(root, e) for e in exclude]]\n",
    "\n",
    "print(categories)"
   ]
  },
  {
   "cell_type": "markdown",
   "metadata": {
    "id": "K2ERhVlFYoZy"
   },
   "source": [
    "This function is useful for pre-processing the data into an image and input vector."
   ]
  },
  {
   "cell_type": "code",
   "execution_count": 6,
   "metadata": {
    "executionInfo": {
     "elapsed": 7,
     "status": "ok",
     "timestamp": 1673973009361,
     "user": {
      "displayName": "Gilberto Uehara",
      "userId": "11139280861294473555"
     },
     "user_tz": 180
    },
    "id": "A1T1Joq7YoZz"
   },
   "outputs": [],
   "source": [
    "# helper function to load image and return it and input vector\n",
    "def get_image(path):\n",
    "    #img = image.load_img(path, target_size=(224, 224))\n",
    "    img = keras.utils.load_img(path, target_size=(224, 224))\n",
    "    #x = image.img_to_array(img)\n",
    "    x = keras.utils.img_to_array(img)\n",
    "    x = np.expand_dims(x, axis=0)\n",
    "    x = preprocess_input(x)\n",
    "    return img, x"
   ]
  },
  {
   "cell_type": "markdown",
   "metadata": {
    "id": "zUwQ60GGYoZ3"
   },
   "source": [
    "Load all the images from root folder"
   ]
  },
  {
   "cell_type": "code",
   "execution_count": 7,
   "metadata": {
    "colab": {
     "base_uri": "https://localhost:8080/"
    },
    "executionInfo": {
     "elapsed": 3815,
     "status": "ok",
     "timestamp": 1673973013169,
     "user": {
      "displayName": "Gilberto Uehara",
      "userId": "11139280861294473555"
     },
     "user_tz": 180
    },
    "id": "5nAUr-ooYoZ4",
    "outputId": "f23531d4-f65e-45fa-e452-ddc56e2e098b"
   },
   "outputs": [
    {
     "name": "stdout",
     "output_type": "stream",
     "text": [
      "/tmp/PetImages/Dog/1846.jpg\n",
      "/tmp/PetImages/Dog/10148.jpg\n",
      "/tmp/PetImages/Dog/9186.jpg\n",
      "/tmp/PetImages/Dog/10560.jpg\n",
      "/tmp/PetImages/Dog/4980.jpg\n",
      "/tmp/PetImages/Dog/9601.jpg\n",
      "/tmp/PetImages/Dog/1372.jpg\n",
      "/tmp/PetImages/Dog/8403.jpg\n",
      "/tmp/PetImages/Dog/7353.jpg\n",
      "/tmp/PetImages/Dog/5172.jpg\n",
      "/tmp/PetImages/Dog/5660.jpg\n",
      "/tmp/PetImages/Dog/9282.jpg\n",
      "/tmp/PetImages/Dog/3417.jpg\n",
      "/tmp/PetImages/Dog/3625.jpg\n",
      "/tmp/PetImages/Dog/1417.jpg\n",
      "/tmp/PetImages/Dog/7533.jpg\n",
      "/tmp/PetImages/Dog/3523.jpg\n",
      "/tmp/PetImages/Dog/5917.jpg\n",
      "/tmp/PetImages/Dog/9599.jpg\n",
      "/tmp/PetImages/Dog/3929.jpg\n",
      "/tmp/PetImages/Dog/11581.jpg\n",
      "/tmp/PetImages/Dog/522.jpg\n",
      "/tmp/PetImages/Dog/2915.jpg\n",
      "/tmp/PetImages/Dog/3797.jpg\n",
      "/tmp/PetImages/Dog/9689.jpg\n",
      "/tmp/PetImages/Dog/6184.jpg\n",
      "/tmp/PetImages/Dog/2605.jpg\n",
      "/tmp/PetImages/Dog/3334.jpg\n",
      "/tmp/PetImages/Dog/8387.jpg\n",
      "/tmp/PetImages/Dog/7691.jpg\n",
      "/tmp/PetImages/Dog/1211.jpg\n",
      "/tmp/PetImages/Dog/3558.jpg\n",
      "/tmp/PetImages/Dog/2849.jpg\n",
      "/tmp/PetImages/Dog/8948.jpg\n",
      "/tmp/PetImages/Dog/6197.jpg\n",
      "/tmp/PetImages/Dog/2616.jpg\n",
      "/tmp/PetImages/Dog/3048.jpg\n",
      "/tmp/PetImages/Dog/5117.jpg\n",
      "/tmp/PetImages/Dog/11449.jpg\n",
      "/tmp/PetImages/Dog/5344.jpg\n",
      "/tmp/PetImages/Dog/11006.jpg\n",
      "/tmp/PetImages/Dog/11861.jpg\n",
      "/tmp/PetImages/Dog/8367.jpg\n",
      "/tmp/PetImages/Dog/3647.jpg\n",
      "/tmp/PetImages/Dog/1567.jpg\n",
      "/tmp/PetImages/Dog/12201.jpg\n",
      "/tmp/PetImages/Dog/10633.jpg\n",
      "/tmp/PetImages/Dog/8011.jpg\n",
      "/tmp/PetImages/Dog/7129.jpg\n",
      "/tmp/PetImages/Dog/11155.jpg\n",
      "/tmp/PetImages/Dog/1949.jpg\n",
      "/tmp/PetImages/Dog/4615.jpg\n",
      "/tmp/PetImages/Dog/796.jpg\n",
      "/tmp/PetImages/Dog/12011.jpg\n",
      "/tmp/PetImages/Dog/2635.jpg\n",
      "/tmp/PetImages/Dog/9133.jpg\n",
      "/tmp/PetImages/Dog/11409.jpg\n",
      "/tmp/PetImages/Dog/4868.jpg\n",
      "/tmp/PetImages/Dog/10948.jpg\n",
      "/tmp/PetImages/Dog/6740.jpg\n",
      "/tmp/PetImages/Dog/5368.jpg\n",
      "/tmp/PetImages/Dog/4940.jpg\n",
      "/tmp/PetImages/Dog/1756.jpg\n",
      "/tmp/PetImages/Dog/11549.jpg\n",
      "/tmp/PetImages/Dog/7748.jpg\n",
      "/tmp/PetImages/Dog/6778.jpg\n",
      "/tmp/PetImages/Dog/5870.jpg\n",
      "/tmp/PetImages/Dog/573.jpg\n",
      "/tmp/PetImages/Dog/3198.jpg\n",
      "/tmp/PetImages/Dog/602.jpg\n",
      "/tmp/PetImages/Dog/2618.jpg\n",
      "/tmp/PetImages/Dog/339.jpg\n",
      "/tmp/PetImages/Dog/10193.jpg\n",
      "/tmp/PetImages/Dog/7307.jpg\n",
      "/tmp/PetImages/Dog/2067.jpg\n",
      "/tmp/PetImages/Dog/4591.jpg\n",
      "/tmp/PetImages/Dog/12221.jpg\n",
      "/tmp/PetImages/Dog/12088.jpg\n",
      "/tmp/PetImages/Dog/6259.jpg\n",
      "/tmp/PetImages/Dog/10904.jpg\n",
      "/tmp/PetImages/Dog/1274.jpg\n",
      "/tmp/PetImages/Dog/6469.jpg\n",
      "/tmp/PetImages/Dog/8300.jpg\n",
      "/tmp/PetImages/Dog/9928.jpg\n",
      "/tmp/PetImages/Dog/1334.jpg\n",
      "/tmp/PetImages/Dog/3714.jpg\n",
      "/tmp/PetImages/Dog/11320.jpg\n",
      "/tmp/PetImages/Dog/7414.jpg\n",
      "/tmp/PetImages/Dog/2345.jpg\n",
      "/tmp/PetImages/Dog/7989.jpg\n",
      "/tmp/PetImages/Dog/7668.jpg\n",
      "/tmp/PetImages/Dog/4497.jpg\n",
      "/tmp/PetImages/Dog/8138.jpg\n",
      "/tmp/PetImages/Dog/1203.jpg\n",
      "/tmp/PetImages/Dog/10010.jpg\n",
      "/tmp/PetImages/Dog/10631.jpg\n",
      "/tmp/PetImages/Dog/12276.jpg\n",
      "/tmp/PetImages/Dog/9170.jpg\n",
      "/tmp/PetImages/Dog/10579.jpg\n",
      "/tmp/PetImages/Dog/8660.jpg\n",
      "/tmp/PetImages/Dog/9789.jpg\n",
      "/tmp/PetImages/Dog/12483.jpg\n",
      "/tmp/PetImages/Dog/6750.jpg\n",
      "/tmp/PetImages/Dog/6192.jpg\n",
      "/tmp/PetImages/Dog/9276.jpg\n",
      "/tmp/PetImages/Dog/12239.jpg\n",
      "/tmp/PetImages/Dog/6883.jpg\n",
      "/tmp/PetImages/Dog/12389.jpg\n",
      "/tmp/PetImages/Dog/7124.jpg\n",
      "/tmp/PetImages/Dog/2670.jpg\n",
      "/tmp/PetImages/Dog/12443.jpg\n",
      "/tmp/PetImages/Dog/5159.jpg\n",
      "/tmp/PetImages/Dog/10773.jpg\n",
      "/tmp/PetImages/Dog/3095.jpg\n",
      "/tmp/PetImages/Dog/6709.jpg\n",
      "/tmp/PetImages/Dog/8959.jpg\n",
      "/tmp/PetImages/Dog/10390.jpg\n",
      "/tmp/PetImages/Dog/5833.jpg\n",
      "/tmp/PetImages/Dog/6258.jpg\n",
      "/tmp/PetImages/Dog/10278.jpg\n",
      "/tmp/PetImages/Dog/3024.jpg\n",
      "/tmp/PetImages/Dog/5715.jpg\n",
      "/tmp/PetImages/Dog/11252.jpg\n",
      "/tmp/PetImages/Dog/11757.jpg\n",
      "/tmp/PetImages/Dog/9512.jpg\n",
      "/tmp/PetImages/Dog/2886.jpg\n",
      "/tmp/PetImages/Dog/9138.jpg\n",
      "/tmp/PetImages/Dog/4810.jpg\n",
      "/tmp/PetImages/Dog/8611.jpg\n",
      "/tmp/PetImages/Dog/3776.jpg\n",
      "/tmp/PetImages/Dog/4554.jpg\n",
      "/tmp/PetImages/Dog/10621.jpg\n",
      "/tmp/PetImages/Dog/3207.jpg\n",
      "/tmp/PetImages/Dog/3583.jpg\n",
      "/tmp/PetImages/Dog/6042.jpg\n",
      "/tmp/PetImages/Dog/11992.jpg\n",
      "/tmp/PetImages/Dog/9141.jpg\n",
      "/tmp/PetImages/Dog/11091.jpg\n",
      "/tmp/PetImages/Dog/1611.jpg\n",
      "/tmp/PetImages/Dog/8967.jpg\n",
      "/tmp/PetImages/Dog/12173.jpg\n",
      "/tmp/PetImages/Dog/10235.jpg\n",
      "/tmp/PetImages/Dog/12156.jpg\n",
      "/tmp/PetImages/Dog/8607.jpg\n",
      "/tmp/PetImages/Dog/11584.jpg\n",
      "/tmp/PetImages/Dog/2733.jpg\n",
      "/tmp/PetImages/Dog/12217.jpg\n",
      "/tmp/PetImages/Dog/3836.jpg\n",
      "/tmp/PetImages/Dog/8373.jpg\n",
      "/tmp/PetImages/Dog/7173.jpg\n",
      "/tmp/PetImages/Dog/7908.jpg\n",
      "/tmp/PetImages/Dog/3457.jpg\n",
      "/tmp/PetImages/Dog/2706.jpg\n",
      "/tmp/PetImages/Dog/2595.jpg\n",
      "/tmp/PetImages/Dog/10807.jpg\n",
      "/tmp/PetImages/Dog/6391.jpg\n",
      "/tmp/PetImages/Dog/4937.jpg\n",
      "/tmp/PetImages/Dog/2866.jpg\n",
      "/tmp/PetImages/Dog/10404.jpg\n",
      "/tmp/PetImages/Dog/3694.jpg\n",
      "/tmp/PetImages/Dog/9033.jpg\n",
      "/tmp/PetImages/Dog/2700.jpg\n",
      "/tmp/PetImages/Dog/7621.jpg\n",
      "/tmp/PetImages/Dog/2021.jpg\n",
      "/tmp/PetImages/Dog/3176.jpg\n",
      "/tmp/PetImages/Dog/5695.jpg\n",
      "/tmp/PetImages/Dog/8839.jpg\n",
      "/tmp/PetImages/Dog/11608.jpg\n",
      "/tmp/PetImages/Dog/5574.jpg\n",
      "/tmp/PetImages/Dog/8348.jpg\n",
      "/tmp/PetImages/Dog/6329.jpg\n",
      "/tmp/PetImages/Dog/1348.jpg\n",
      "/tmp/PetImages/Dog/3841.jpg\n",
      "/tmp/PetImages/Dog/2959.jpg\n",
      "/tmp/PetImages/Dog/1368.jpg\n",
      "/tmp/PetImages/Dog/6695.jpg\n",
      "/tmp/PetImages/Dog/12391.jpg\n",
      "/tmp/PetImages/Dog/2992.jpg\n",
      "/tmp/PetImages/Dog/8552.jpg\n",
      "/tmp/PetImages/Dog/3116.jpg\n",
      "/tmp/PetImages/Dog/5405.jpg\n",
      "/tmp/PetImages/Dog/2422.jpg\n",
      "/tmp/PetImages/Dog/1974.jpg\n",
      "/tmp/PetImages/Dog/7776.jpg\n",
      "/tmp/PetImages/Dog/2137.jpg\n",
      "/tmp/PetImages/Dog/1202.jpg\n",
      "/tmp/PetImages/Dog/257.jpg\n",
      "/tmp/PetImages/Dog/6800.jpg\n",
      "/tmp/PetImages/Dog/8233.jpg\n",
      "/tmp/PetImages/Dog/4872.jpg\n",
      "/tmp/PetImages/Dog/10004.jpg\n",
      "/tmp/PetImages/Dog/7100.jpg\n",
      "/tmp/PetImages/Dog/5350.jpg\n",
      "/tmp/PetImages/Dog/4935.jpg\n",
      "/tmp/PetImages/Dog/9670.jpg\n",
      "/tmp/PetImages/Dog/496.jpg\n",
      "/tmp/PetImages/Dog/8090.jpg\n",
      "/tmp/PetImages/Dog/10752.jpg\n",
      "/tmp/PetImages/Dog/3371.jpg\n",
      "/tmp/PetImages/Dog/11924.jpg\n",
      "/tmp/PetImages/Cat/1846.jpg\n",
      "/tmp/PetImages/Cat/10148.jpg\n",
      "/tmp/PetImages/Cat/9186.jpg\n",
      "/tmp/PetImages/Cat/10560.jpg\n",
      "/tmp/PetImages/Cat/4980.jpg\n",
      "/tmp/PetImages/Cat/9601.jpg\n",
      "/tmp/PetImages/Cat/1372.jpg\n",
      "/tmp/PetImages/Cat/8403.jpg\n",
      "/tmp/PetImages/Cat/7353.jpg\n",
      "/tmp/PetImages/Cat/5172.jpg\n",
      "/tmp/PetImages/Cat/5660.jpg\n",
      "/tmp/PetImages/Cat/9282.jpg\n",
      "/tmp/PetImages/Cat/3417.jpg\n",
      "/tmp/PetImages/Cat/3625.jpg\n",
      "/tmp/PetImages/Cat/1417.jpg\n",
      "/tmp/PetImages/Cat/7533.jpg\n",
      "/tmp/PetImages/Cat/3523.jpg\n",
      "/tmp/PetImages/Cat/5917.jpg\n",
      "/tmp/PetImages/Cat/9599.jpg\n",
      "/tmp/PetImages/Cat/3929.jpg\n",
      "/tmp/PetImages/Cat/11581.jpg\n",
      "/tmp/PetImages/Cat/522.jpg\n",
      "/tmp/PetImages/Cat/2915.jpg\n",
      "/tmp/PetImages/Cat/3797.jpg\n",
      "/tmp/PetImages/Cat/9689.jpg\n",
      "/tmp/PetImages/Cat/6184.jpg\n",
      "/tmp/PetImages/Cat/2605.jpg\n",
      "/tmp/PetImages/Cat/3334.jpg\n",
      "/tmp/PetImages/Cat/8387.jpg\n",
      "/tmp/PetImages/Cat/7691.jpg\n",
      "/tmp/PetImages/Cat/1211.jpg\n",
      "/tmp/PetImages/Cat/3558.jpg\n",
      "/tmp/PetImages/Cat/2849.jpg\n",
      "/tmp/PetImages/Cat/8948.jpg\n",
      "/tmp/PetImages/Cat/6197.jpg\n",
      "/tmp/PetImages/Cat/2616.jpg\n",
      "/tmp/PetImages/Cat/3048.jpg\n",
      "/tmp/PetImages/Cat/5117.jpg\n",
      "/tmp/PetImages/Cat/11449.jpg\n",
      "/tmp/PetImages/Cat/5344.jpg\n",
      "/tmp/PetImages/Cat/11006.jpg\n",
      "/tmp/PetImages/Cat/11861.jpg\n",
      "/tmp/PetImages/Cat/8367.jpg\n",
      "/tmp/PetImages/Cat/3647.jpg\n",
      "/tmp/PetImages/Cat/1567.jpg\n",
      "/tmp/PetImages/Cat/12201.jpg\n",
      "/tmp/PetImages/Cat/10633.jpg\n",
      "/tmp/PetImages/Cat/8011.jpg\n",
      "/tmp/PetImages/Cat/7129.jpg\n",
      "/tmp/PetImages/Cat/11155.jpg\n",
      "/tmp/PetImages/Cat/1949.jpg\n",
      "/tmp/PetImages/Cat/4615.jpg\n",
      "/tmp/PetImages/Cat/796.jpg\n",
      "/tmp/PetImages/Cat/12011.jpg\n",
      "/tmp/PetImages/Cat/2635.jpg\n",
      "/tmp/PetImages/Cat/9133.jpg\n",
      "/tmp/PetImages/Cat/11409.jpg\n",
      "/tmp/PetImages/Cat/4868.jpg\n",
      "/tmp/PetImages/Cat/10948.jpg\n",
      "/tmp/PetImages/Cat/6740.jpg\n",
      "/tmp/PetImages/Cat/5368.jpg\n",
      "/tmp/PetImages/Cat/4940.jpg\n",
      "/tmp/PetImages/Cat/1756.jpg\n",
      "/tmp/PetImages/Cat/11549.jpg\n",
      "/tmp/PetImages/Cat/7748.jpg\n",
      "/tmp/PetImages/Cat/6778.jpg\n",
      "/tmp/PetImages/Cat/5870.jpg\n",
      "/tmp/PetImages/Cat/573.jpg\n",
      "/tmp/PetImages/Cat/3198.jpg\n",
      "/tmp/PetImages/Cat/602.jpg\n",
      "/tmp/PetImages/Cat/2618.jpg\n",
      "/tmp/PetImages/Cat/339.jpg\n",
      "/tmp/PetImages/Cat/10193.jpg\n",
      "/tmp/PetImages/Cat/7307.jpg\n",
      "/tmp/PetImages/Cat/2067.jpg\n",
      "/tmp/PetImages/Cat/4591.jpg\n",
      "/tmp/PetImages/Cat/12221.jpg\n",
      "/tmp/PetImages/Cat/12088.jpg\n",
      "/tmp/PetImages/Cat/6259.jpg\n",
      "/tmp/PetImages/Cat/10904.jpg\n",
      "/tmp/PetImages/Cat/1274.jpg\n",
      "/tmp/PetImages/Cat/6469.jpg\n",
      "/tmp/PetImages/Cat/8300.jpg\n",
      "/tmp/PetImages/Cat/9928.jpg\n",
      "/tmp/PetImages/Cat/1334.jpg\n",
      "/tmp/PetImages/Cat/3714.jpg\n",
      "/tmp/PetImages/Cat/11320.jpg\n",
      "/tmp/PetImages/Cat/7414.jpg\n",
      "/tmp/PetImages/Cat/2345.jpg\n",
      "/tmp/PetImages/Cat/7989.jpg\n",
      "/tmp/PetImages/Cat/7668.jpg\n",
      "/tmp/PetImages/Cat/4497.jpg\n",
      "/tmp/PetImages/Cat/8138.jpg\n",
      "/tmp/PetImages/Cat/1203.jpg\n",
      "/tmp/PetImages/Cat/10010.jpg\n",
      "/tmp/PetImages/Cat/10631.jpg\n",
      "/tmp/PetImages/Cat/12276.jpg\n",
      "/tmp/PetImages/Cat/9170.jpg\n",
      "/tmp/PetImages/Cat/10579.jpg\n",
      "/tmp/PetImages/Cat/8660.jpg\n",
      "/tmp/PetImages/Cat/9789.jpg\n",
      "/tmp/PetImages/Cat/12483.jpg\n",
      "/tmp/PetImages/Cat/6750.jpg\n",
      "/tmp/PetImages/Cat/6192.jpg\n",
      "/tmp/PetImages/Cat/9276.jpg\n",
      "/tmp/PetImages/Cat/12239.jpg\n",
      "/tmp/PetImages/Cat/6883.jpg\n",
      "/tmp/PetImages/Cat/12389.jpg\n",
      "/tmp/PetImages/Cat/7124.jpg\n",
      "/tmp/PetImages/Cat/2670.jpg\n",
      "/tmp/PetImages/Cat/12443.jpg\n",
      "/tmp/PetImages/Cat/5159.jpg\n",
      "/tmp/PetImages/Cat/10773.jpg\n",
      "/tmp/PetImages/Cat/3095.jpg\n",
      "/tmp/PetImages/Cat/6709.jpg\n",
      "/tmp/PetImages/Cat/8959.jpg\n",
      "/tmp/PetImages/Cat/10390.jpg\n",
      "/tmp/PetImages/Cat/5833.jpg\n",
      "/tmp/PetImages/Cat/6258.jpg\n",
      "/tmp/PetImages/Cat/10278.jpg\n",
      "/tmp/PetImages/Cat/3024.jpg\n",
      "/tmp/PetImages/Cat/5715.jpg\n",
      "/tmp/PetImages/Cat/11252.jpg\n",
      "/tmp/PetImages/Cat/11757.jpg\n",
      "/tmp/PetImages/Cat/9512.jpg\n",
      "/tmp/PetImages/Cat/2886.jpg\n",
      "/tmp/PetImages/Cat/9138.jpg\n",
      "/tmp/PetImages/Cat/4810.jpg\n",
      "/tmp/PetImages/Cat/8611.jpg\n",
      "/tmp/PetImages/Cat/3776.jpg\n",
      "/tmp/PetImages/Cat/4554.jpg\n",
      "/tmp/PetImages/Cat/10621.jpg\n",
      "/tmp/PetImages/Cat/3207.jpg\n",
      "/tmp/PetImages/Cat/3583.jpg\n",
      "/tmp/PetImages/Cat/6042.jpg\n",
      "/tmp/PetImages/Cat/11992.jpg\n",
      "/tmp/PetImages/Cat/9141.jpg\n",
      "/tmp/PetImages/Cat/11091.jpg\n",
      "/tmp/PetImages/Cat/1611.jpg\n",
      "/tmp/PetImages/Cat/8967.jpg\n",
      "/tmp/PetImages/Cat/12173.jpg\n",
      "/tmp/PetImages/Cat/10235.jpg\n",
      "/tmp/PetImages/Cat/12156.jpg\n",
      "/tmp/PetImages/Cat/8607.jpg\n",
      "/tmp/PetImages/Cat/11584.jpg\n",
      "/tmp/PetImages/Cat/2733.jpg\n",
      "/tmp/PetImages/Cat/12217.jpg\n",
      "/tmp/PetImages/Cat/3836.jpg\n",
      "/tmp/PetImages/Cat/8373.jpg\n",
      "/tmp/PetImages/Cat/7173.jpg\n",
      "/tmp/PetImages/Cat/7908.jpg\n",
      "/tmp/PetImages/Cat/3457.jpg\n",
      "/tmp/PetImages/Cat/2706.jpg\n",
      "/tmp/PetImages/Cat/2595.jpg\n",
      "/tmp/PetImages/Cat/10807.jpg\n",
      "/tmp/PetImages/Cat/6391.jpg\n",
      "/tmp/PetImages/Cat/4937.jpg\n",
      "/tmp/PetImages/Cat/2866.jpg\n",
      "/tmp/PetImages/Cat/10404.jpg\n",
      "/tmp/PetImages/Cat/3694.jpg\n",
      "/tmp/PetImages/Cat/9033.jpg\n",
      "/tmp/PetImages/Cat/2700.jpg\n",
      "/tmp/PetImages/Cat/7621.jpg\n",
      "/tmp/PetImages/Cat/2021.jpg\n",
      "/tmp/PetImages/Cat/3176.jpg\n",
      "/tmp/PetImages/Cat/5695.jpg\n",
      "/tmp/PetImages/Cat/8839.jpg\n",
      "/tmp/PetImages/Cat/11608.jpg\n",
      "/tmp/PetImages/Cat/5574.jpg\n",
      "/tmp/PetImages/Cat/8348.jpg\n",
      "/tmp/PetImages/Cat/6329.jpg\n",
      "/tmp/PetImages/Cat/1348.jpg\n",
      "/tmp/PetImages/Cat/3841.jpg\n",
      "/tmp/PetImages/Cat/2959.jpg\n",
      "/tmp/PetImages/Cat/1368.jpg\n",
      "/tmp/PetImages/Cat/6695.jpg\n",
      "/tmp/PetImages/Cat/12391.jpg\n",
      "/tmp/PetImages/Cat/2992.jpg\n",
      "/tmp/PetImages/Cat/8552.jpg\n",
      "/tmp/PetImages/Cat/3116.jpg\n",
      "/tmp/PetImages/Cat/5405.jpg\n",
      "/tmp/PetImages/Cat/2422.jpg\n",
      "/tmp/PetImages/Cat/1974.jpg\n",
      "/tmp/PetImages/Cat/7776.jpg\n",
      "/tmp/PetImages/Cat/2137.jpg\n",
      "/tmp/PetImages/Cat/1202.jpg\n",
      "/tmp/PetImages/Cat/257.jpg\n",
      "/tmp/PetImages/Cat/6800.jpg\n",
      "/tmp/PetImages/Cat/8233.jpg\n",
      "/tmp/PetImages/Cat/4872.jpg\n",
      "/tmp/PetImages/Cat/10004.jpg\n",
      "/tmp/PetImages/Cat/7100.jpg\n",
      "/tmp/PetImages/Cat/5350.jpg\n",
      "/tmp/PetImages/Cat/4935.jpg\n",
      "/tmp/PetImages/Cat/9670.jpg\n",
      "/tmp/PetImages/Cat/496.jpg\n",
      "/tmp/PetImages/Cat/8090.jpg\n",
      "/tmp/PetImages/Cat/10752.jpg\n",
      "/tmp/PetImages/Cat/3371.jpg\n",
      "/tmp/PetImages/Cat/11924.jpg\n"
     ]
    }
   ],
   "source": [
    "data = []\n",
    "os.remove('/tmp/PetImages/Dog/11702.jpg')\n",
    "os.remove('/tmp/PetImages/Cat/666.jpg')\n",
    "for c, category in enumerate(categories):\n",
    "    images = [os.path.join(dp, f) for dp, dn, filenames \n",
    "              in os.walk(category) for f in filenames \n",
    "              if os.path.splitext(f)[1].lower() in ['.jpg','.png','.jpeg']]\n",
    "    for img_path in images[:200]:\n",
    "        print(img_path)\n",
    "        img, x = get_image(img_path)\n",
    "        data.append({'x':np.array(x[0]), 'y':c})\n",
    "\n",
    "# count the number of classes\n",
    "num_classes = len(categories)"
   ]
  },
  {
   "cell_type": "markdown",
   "metadata": {
    "id": "55Rw-ptVYoZ7"
   },
   "source": [
    "Randomize the data order."
   ]
  },
  {
   "cell_type": "code",
   "execution_count": 8,
   "metadata": {
    "executionInfo": {
     "elapsed": 33,
     "status": "ok",
     "timestamp": 1673973013170,
     "user": {
      "displayName": "Gilberto Uehara",
      "userId": "11139280861294473555"
     },
     "user_tz": 180
    },
    "id": "5vGeJK55YoZ8"
   },
   "outputs": [],
   "source": [
    "random.shuffle(data)"
   ]
  },
  {
   "cell_type": "markdown",
   "metadata": {
    "id": "OwHqS_NgYoZ_"
   },
   "source": [
    "create training / validation / test split (70%, 15%, 15%)"
   ]
  },
  {
   "cell_type": "code",
   "execution_count": 9,
   "metadata": {
    "executionInfo": {
     "elapsed": 32,
     "status": "ok",
     "timestamp": 1673973013170,
     "user": {
      "displayName": "Gilberto Uehara",
      "userId": "11139280861294473555"
     },
     "user_tz": 180
    },
    "id": "PT9Cuq2rYoaB"
   },
   "outputs": [],
   "source": [
    "idx_val = int(train_split * len(data))\n",
    "idx_test = int((train_split + val_split) * len(data))\n",
    "train = data[:idx_val]\n",
    "val = data[idx_val:idx_test]\n",
    "test = data[idx_test:]"
   ]
  },
  {
   "cell_type": "markdown",
   "metadata": {
    "id": "EsOVhpqcYoaF"
   },
   "source": [
    "Separate data for labels."
   ]
  },
  {
   "cell_type": "code",
   "execution_count": 10,
   "metadata": {
    "colab": {
     "base_uri": "https://localhost:8080/"
    },
    "executionInfo": {
     "elapsed": 31,
     "status": "ok",
     "timestamp": 1673973013170,
     "user": {
      "displayName": "Gilberto Uehara",
      "userId": "11139280861294473555"
     },
     "user_tz": 180
    },
    "id": "vQOGN9kOYoaH",
    "outputId": "318d4227-d5c3-40ef-b7f7-dd05c8175794"
   },
   "outputs": [
    {
     "name": "stdout",
     "output_type": "stream",
     "text": [
      "[0, 1, 0, 0, 0, 0, 0, 1, 0, 0, 0, 1, 1, 0, 1, 1, 1, 0, 1, 0, 0, 0, 0, 1, 0, 1, 0, 1, 0, 1, 0, 0, 0, 1, 1, 1, 0, 1, 0, 0, 0, 0, 0, 1, 1, 0, 0, 1, 0, 1, 0, 1, 1, 1, 0, 1, 1, 0, 1, 0]\n"
     ]
    }
   ],
   "source": [
    "x_train, y_train = np.array([t[\"x\"] for t in train]), [t[\"y\"] for t in train]\n",
    "x_val, y_val = np.array([t[\"x\"] for t in val]), [t[\"y\"] for t in val]\n",
    "x_test, y_test = np.array([t[\"x\"] for t in test]), [t[\"y\"] for t in test]\n",
    "print(y_test)"
   ]
  },
  {
   "cell_type": "markdown",
   "metadata": {
    "id": "vc6W07QVYoaM"
   },
   "source": [
    "Pre-process the data as before by making sure it's float32 and normalized between 0 and 1."
   ]
  },
  {
   "cell_type": "code",
   "execution_count": 11,
   "metadata": {
    "colab": {
     "base_uri": "https://localhost:8080/"
    },
    "executionInfo": {
     "elapsed": 23,
     "status": "ok",
     "timestamp": 1673973013170,
     "user": {
      "displayName": "Gilberto Uehara",
      "userId": "11139280861294473555"
     },
     "user_tz": 180
    },
    "id": "qnXaiAgJYoaQ",
    "outputId": "59b876cb-59e0-40b7-8f23-6b1be3e4c1ce"
   },
   "outputs": [
    {
     "name": "stdout",
     "output_type": "stream",
     "text": [
      "(60, 2)\n"
     ]
    }
   ],
   "source": [
    "# normalize data\n",
    "x_train = x_train.astype('float32') / 255.\n",
    "x_val = x_val.astype('float32') / 255.\n",
    "x_test = x_test.astype('float32') / 255.\n",
    "\n",
    "# convert labels to one-hot vectors\n",
    "y_train = keras.utils.to_categorical(y_train, num_classes)\n",
    "y_val = keras.utils.to_categorical(y_val, num_classes)\n",
    "y_test = keras.utils.to_categorical(y_test, num_classes)\n",
    "print(y_test.shape)"
   ]
  },
  {
   "cell_type": "markdown",
   "metadata": {
    "id": "ordUucUKYoaS"
   },
   "source": [
    "Let's get a summary of what we have."
   ]
  },
  {
   "cell_type": "code",
   "execution_count": 12,
   "metadata": {
    "colab": {
     "base_uri": "https://localhost:8080/"
    },
    "executionInfo": {
     "elapsed": 22,
     "status": "ok",
     "timestamp": 1673973013171,
     "user": {
      "displayName": "Gilberto Uehara",
      "userId": "11139280861294473555"
     },
     "user_tz": 180
    },
    "id": "AcKjxgtyYoaT",
    "outputId": "a1a32ee9-2182-4f9a-9e50-775a61f6f8c9"
   },
   "outputs": [
    {
     "name": "stdout",
     "output_type": "stream",
     "text": [
      "finished loading 400 images from 2 categories\n",
      "train / validation / test split: 280, 60, 60\n",
      "training data shape:  (280, 224, 224, 3)\n",
      "training labels shape:  (280, 2)\n"
     ]
    }
   ],
   "source": [
    "# summary\n",
    "print(\"finished loading %d images from %d categories\"%(len(data), num_classes))\n",
    "print(\"train / validation / test split: %d, %d, %d\"%(len(x_train), len(x_val), len(x_test)))\n",
    "print(\"training data shape: \", x_train.shape)\n",
    "print(\"training labels shape: \", y_train.shape)\n"
   ]
  },
  {
   "cell_type": "markdown",
   "metadata": {
    "id": "E-P9MNPcYoaY"
   },
   "source": [
    "If everything worked properly, you should have loaded a bunch of images, and split them into three sets: `train`, `val`, and `test`. The shape of the training data should be (`n`, 224, 224, 3) where `n` is the size of your training set, and the labels should be (`n`, `c`) where `c` is the number of classes (97 in the case of `101_ObjectCategories`. \n",
    "\n",
    "Notice that we divided all the data into three subsets -- a training set `train`, a validation set `val`, and a test set `test`. The reason for this is to properly evaluate the accuracy of our classifier. During training, the optimizer uses the validation set to evaluate its internal performance, in order to determine the gradient without overfitting to the training set. The `test` set is always held out from the training algorithm, and is only used at the end to evaluate the final accuracy of our model.\n",
    "\n",
    "Let's quickly look at a few sample images from our dataset."
   ]
  },
  {
   "cell_type": "code",
   "execution_count": 13,
   "metadata": {
    "colab": {
     "base_uri": "https://localhost:8080/",
     "height": 181
    },
    "executionInfo": {
     "elapsed": 17,
     "status": "ok",
     "timestamp": 1673973013172,
     "user": {
      "displayName": "Gilberto Uehara",
      "userId": "11139280861294473555"
     },
     "user_tz": 180
    },
    "id": "y84SmM2CYoaZ",
    "outputId": "06768b76-fe1e-4c38-96e1-6cf2ad79a5a1"
   },
   "outputs": [
    {
     "data": {
      "text/plain": [
       "<matplotlib.image.AxesImage at 0x7fb10fd3e2b0>"
      ]
     },
     "execution_count": 13,
     "metadata": {},
     "output_type": "execute_result"
    },
    {
     "data": {
      "image/png": "[encoded data removed]",
      "text/plain": [
       "<Figure size 1152x288 with 1 Axes>"
      ]
     },
     "metadata": {
      "needs_background": "light"
     },
     "output_type": "display_data"
    }
   ],
   "source": [
    "images = [os.path.join(dp, f) for dp, dn, filenames in os.walk(root) for f in filenames if os.path.splitext(f)[1].lower() in ['.jpg','.png','.jpeg']]\n",
    "idx = [int(len(images) * random.random()) for i in range(8)]\n",
    "#imgs = [image.load_img(images[i], target_size=(224, 224)) for i in idx]\n",
    "imgs = [keras.utils.load_img(images[i], target_size=(224, 224)) for i in idx]\n",
    "\n",
    "concat_image = np.concatenate([np.asarray(img) for img in imgs], axis=1)\n",
    "plt.figure(figsize=(16,4))\n",
    "plt.imshow(concat_image)"
   ]
  },
  {
   "cell_type": "markdown",
   "metadata": {
    "id": "n2s5qypkYoad"
   },
   "source": [
    "### First training a neural net from scratch\n",
    "\n",
    "Before doing the transfer learning, let's first build a neural network from scratch for doing classification on our dataset. This will give us a baseline to compare to our transfer-learned network later.\n",
    "\n",
    "The network we will construct contains 4 alternating convolutional and max-pooling layers, followed by a [dropout](https://www.cs.toronto.edu/~hinton/absps/JMLRdropout.pdf) after every other conv/pooling pair. After the last pooling layer, we will attach a fully-connected layer with 256 neurons, another dropout layer, then finally a softmax classification layer for our classes.\n",
    "\n",
    "Our loss function will be, as usual, categorical cross-entropy loss, and our learning algorithm will be [AdaDelta](https://arxiv.org/abs/1212.5701). Various things about this network can be changed to get better performance, perhaps using a larger network or a different optimizer will help, but for the purposes of this notebook, the goal is to just get an understanding of an approximate baseline for comparison's sake, and so it isn't neccessary to spend much time trying to optimize this network.\n",
    "\n",
    "Upon compiling the network, let's run `model.summary()` to get a snapshot of its layers."
   ]
  },
  {
   "cell_type": "code",
   "execution_count": 14,
   "metadata": {
    "colab": {
     "base_uri": "https://localhost:8080/"
    },
    "executionInfo": {
     "elapsed": 2513,
     "status": "ok",
     "timestamp": 1673973015675,
     "user": {
      "displayName": "Gilberto Uehara",
      "userId": "11139280861294473555"
     },
     "user_tz": 180
    },
    "id": "y41GiiYTYoaf",
    "outputId": "c1c34195-f27a-473b-c684-8c5dbe05392e"
   },
   "outputs": [
    {
     "name": "stdout",
     "output_type": "stream",
     "text": [
      "Input dimensions:  (224, 224, 3)\n",
      "Model: \"sequential\"\n",
      "_________________________________________________________________\n",
      " Layer (type)                Output Shape              Param #   \n",
      "=================================================================\n",
      " conv2d (Conv2D)             (None, 222, 222, 32)      896       \n",
      "                                                                 \n",
      " activation (Activation)     (None, 222, 222, 32)      0         \n",
      "                                                                 \n",
      " max_pooling2d (MaxPooling2D  (None, 111, 111, 32)     0         \n",
      " )                                                               \n",
      "                                                                 \n",
      " conv2d_1 (Conv2D)           (None, 109, 109, 32)      9248      \n",
      "                                                                 \n",
      " activation_1 (Activation)   (None, 109, 109, 32)      0         \n",
      "                                                                 \n",
      " max_pooling2d_1 (MaxPooling  (None, 54, 54, 32)       0         \n",
      " 2D)                                                             \n",
      "                                                                 \n",
      " dropout (Dropout)           (None, 54, 54, 32)        0         \n",
      "                                                                 \n",
      " conv2d_2 (Conv2D)           (None, 52, 52, 32)        9248      \n",
      "                                                                 \n",
      " activation_2 (Activation)   (None, 52, 52, 32)        0         \n",
      "                                                                 \n",
      " max_pooling2d_2 (MaxPooling  (None, 26, 26, 32)       0         \n",
      " 2D)                                                             \n",
      "                                                                 \n",
      " conv2d_3 (Conv2D)           (None, 24, 24, 32)        9248      \n",
      "                                                                 \n",
      " activation_3 (Activation)   (None, 24, 24, 32)        0         \n",
      "                                                                 \n",
      " max_pooling2d_3 (MaxPooling  (None, 12, 12, 32)       0         \n",
      " 2D)                                                             \n",
      "                                                                 \n",
      " dropout_1 (Dropout)         (None, 12, 12, 32)        0         \n",
      "                                                                 \n",
      " flatten (Flatten)           (None, 4608)              0         \n",
      "                                                                 \n",
      " dense (Dense)               (None, 256)               1179904   \n",
      "                                                                 \n",
      " activation_4 (Activation)   (None, 256)               0         \n",
      "                                                                 \n",
      " dropout_2 (Dropout)         (None, 256)               0         \n",
      "                                                                 \n",
      " dense_1 (Dense)             (None, 2)                 514       \n",
      "                                                                 \n",
      " activation_5 (Activation)   (None, 2)                 0         \n",
      "                                                                 \n",
      "=================================================================\n",
      "Total params: 1,209,058\n",
      "Trainable params: 1,209,058\n",
      "Non-trainable params: 0\n",
      "_________________________________________________________________\n"
     ]
    }
   ],
   "source": [
    "# build the network\n",
    "model = Sequential()\n",
    "print(\"Input dimensions: \",x_train.shape[1:])\n",
    "\n",
    "model.add(Conv2D(32, (3, 3), input_shape=x_train.shape[1:]))\n",
    "model.add(Activation('relu'))\n",
    "model.add(MaxPooling2D(pool_size=(2, 2)))\n",
    "\n",
    "model.add(Conv2D(32, (3, 3)))\n",
    "model.add(Activation('relu'))\n",
    "model.add(MaxPooling2D(pool_size=(2, 2)))\n",
    "\n",
    "model.add(Dropout(0.25))\n",
    "\n",
    "model.add(Conv2D(32, (3, 3)))\n",
    "model.add(Activation('relu'))\n",
    "model.add(MaxPooling2D(pool_size=(2, 2)))\n",
    "\n",
    "model.add(Conv2D(32, (3, 3)))\n",
    "model.add(Activation('relu'))\n",
    "model.add(MaxPooling2D(pool_size=(2, 2)))\n",
    "\n",
    "model.add(Dropout(0.25))\n",
    "\n",
    "model.add(Flatten())\n",
    "model.add(Dense(256))\n",
    "model.add(Activation('relu'))\n",
    "\n",
    "model.add(Dropout(0.5))\n",
    "\n",
    "model.add(Dense(num_classes))\n",
    "model.add(Activation('softmax'))\n",
    "\n",
    "model.summary()"
   ]
  },
  {
   "cell_type": "markdown",
   "metadata": {
    "id": "ej9IWCzxYoai"
   },
   "source": [
    "We've created a medium-sized network with ~1.2 million weights and biases (the parameters). Most of them are leading into the one pre-softmax fully-connected layer \"dense_5\".\n",
    "\n",
    "We can now go ahead and train our model for 100 epochs with a batch size of 128. We'll also record its history so we can plot the loss over time later. "
   ]
  },
  {
   "cell_type": "code",
   "execution_count": 15,
   "metadata": {
    "colab": {
     "base_uri": "https://localhost:8080/"
    },
    "executionInfo": {
     "elapsed": 14706,
     "status": "ok",
     "timestamp": 1673973030379,
     "user": {
      "displayName": "Gilberto Uehara",
      "userId": "11139280861294473555"
     },
     "user_tz": 180
    },
    "id": "CIqHecNAYoaj",
    "outputId": "d1be905a-ca8d-4f2e-8050-4933fb301035"
   },
   "outputs": [
    {
     "name": "stdout",
     "output_type": "stream",
     "text": [
      "Epoch 1/10\n",
      "3/3 [==============================] - 12s 567ms/step - loss: 0.7397 - accuracy: 0.5000 - val_loss: 0.6721 - val_accuracy: 0.5500\n",
      "Epoch 2/10\n",
      "3/3 [==============================] - 0s 133ms/step - loss: 0.7105 - accuracy: 0.4679 - val_loss: 0.6975 - val_accuracy: 0.4500\n",
      "Epoch 3/10\n",
      "3/3 [==============================] - 0s 123ms/step - loss: 0.6931 - accuracy: 0.5214 - val_loss: 0.7020 - val_accuracy: 0.4500\n",
      "Epoch 4/10\n",
      "3/3 [==============================] - 0s 123ms/step - loss: 0.6934 - accuracy: 0.5250 - val_loss: 0.6986 - val_accuracy: 0.4500\n",
      "Epoch 5/10\n",
      "3/3 [==============================] - 0s 122ms/step - loss: 0.6908 - accuracy: 0.5179 - val_loss: 0.6941 - val_accuracy: 0.4333\n",
      "Epoch 6/10\n",
      "3/3 [==============================] - 0s 123ms/step - loss: 0.6927 - accuracy: 0.5250 - val_loss: 0.6960 - val_accuracy: 0.4500\n",
      "Epoch 7/10\n",
      "3/3 [==============================] - 0s 123ms/step - loss: 0.6923 - accuracy: 0.5393 - val_loss: 0.6994 - val_accuracy: 0.4500\n",
      "Epoch 8/10\n",
      "3/3 [==============================] - 0s 127ms/step - loss: 0.6843 - accuracy: 0.5679 - val_loss: 0.6962 - val_accuracy: 0.4833\n",
      "Epoch 9/10\n",
      "3/3 [==============================] - 0s 124ms/step - loss: 0.6842 - accuracy: 0.5464 - val_loss: 0.6873 - val_accuracy: 0.5167\n",
      "Epoch 10/10\n",
      "3/3 [==============================] - 0s 119ms/step - loss: 0.6790 - accuracy: 0.6179 - val_loss: 0.6879 - val_accuracy: 0.5333\n"
     ]
    }
   ],
   "source": [
    "# compile the model to use categorical cross-entropy loss function and adadelta optimizer\n",
    "model.compile(loss='categorical_crossentropy',\n",
    "              optimizer='adam',\n",
    "              metrics=['accuracy'])\n",
    "\n",
    "history = model.fit(x_train, y_train,\n",
    "                    batch_size=128,\n",
    "                    epochs=10,\n",
    "                    validation_data=(x_val, y_val))\n"
   ]
  },
  {
   "cell_type": "markdown",
   "metadata": {
    "id": "yG0CKOI1Yoao"
   },
   "source": [
    "Let's plot the validation loss and validation accuracy over time."
   ]
  },
  {
   "cell_type": "code",
   "execution_count": 17,
   "metadata": {
    "colab": {
     "base_uri": "https://localhost:8080/",
     "height": 295
    },
    "executionInfo": {
     "elapsed": 6,
     "status": "ok",
     "timestamp": 1673973150522,
     "user": {
      "displayName": "Gilberto Uehara",
      "userId": "11139280861294473555"
     },
     "user_tz": 180
    },
    "id": "_CCPq_ndYoap",
    "outputId": "94aa8594-7b70-42cd-cc75-95039e9b8d94"
   },
   "outputs": [
    {
     "data": {
      "image/png": "[encoded data removed]",
      "text/plain": [
       "<Figure size 1152x288 with 1 Axes>"
      ]
     },
     "metadata": {
      "needs_background": "light"
     },
     "output_type": "display_data"
    }
   ],
   "source": [
    "fig = plt.figure(figsize=(16,4))\n",
    "ax = fig.add_subplot(121)\n",
    "ax.plot(history.history[\"val_loss\"])\n",
    "ax.set_title(\"validation loss\")\n",
    "ax.set_xlabel(\"epochs\")\n",
    "\n",
    "#ax2 = fig.add_subplot(122)\n",
    "#ax2.plot(history.history[\"val_acc\"])\n",
    "#ax2.set_title(\"validation accuracy\")\n",
    "#ax2.set_xlabel(\"epochs\")\n",
    "#ax2.set_ylim(0, 1)\n",
    "\n",
    "plt.show()"
   ]
  },
  {
   "cell_type": "markdown",
   "metadata": {
    "id": "GI7Mj6-RYoau"
   },
   "source": [
    "Notice that the validation loss begins to actually rise after around 16 epochs, even though validation accuracy remains roughly between 40% and 50%. This suggests our model begins overfitting around then, and best performance would have been achieved if we had stopped early around then. Nevertheless, our accuracy would not have likely been above 50%, and probably lower down.\n",
    "\n",
    "We can also get a final evaluation by running our model on the training set. Doing so, we get the following results:"
   ]
  },
  {
   "cell_type": "code",
   "execution_count": 18,
   "metadata": {
    "colab": {
     "base_uri": "https://localhost:8080/"
    },
    "executionInfo": {
     "elapsed": 1571,
     "status": "ok",
     "timestamp": 1673973156307,
     "user": {
      "displayName": "Gilberto Uehara",
      "userId": "11139280861294473555"
     },
     "user_tz": 180
    },
    "id": "8Itd5LDAYoav",
    "outputId": "e3390814-373d-4832-ce5e-fa32a8d553de"
   },
   "outputs": [
    {
     "name": "stdout",
     "output_type": "stream",
     "text": [
      "Test loss: 0.7054111361503601\n",
      "Test accuracy: 0.46666666865348816\n"
     ]
    }
   ],
   "source": [
    "loss, accuracy = model.evaluate(x_test, y_test, verbose=0)\n",
    "print('Test loss:', loss)\n",
    "print('Test accuracy:', accuracy)"
   ]
  },
  {
   "cell_type": "markdown",
   "metadata": {
    "id": "vIwMY_ZXYoax"
   },
   "source": [
    "Finally, we see that we have achieved a (top-1) accuracy of around 49%. That's not too bad for 6000 images, considering that if we were to use a naive strategy of taking random guesses, we would have only gotten around 1% accuracy. \n",
    "\n",
    "## Transfer learning by starting with existing network\n",
    "\n",
    "Now we can move on to the main strategy for training an image classifier on our small dataset: by starting with a larger and already trained network.\n",
    "\n",
    "To start, we will load the VGG16 from keras, which was trained on ImageNet and the weights saved online. If this is your first time loading VGG16, you'll need to wait a bit for the weights to download from the web. Once the network is loaded, we can again inspect the layers with the `summary()` method."
   ]
  },
  {
   "cell_type": "code",
   "execution_count": 19,
   "metadata": {
    "colab": {
     "base_uri": "https://localhost:8080/"
    },
    "executionInfo": {
     "elapsed": 27217,
     "status": "ok",
     "timestamp": 1673973186655,
     "user": {
      "displayName": "Gilberto Uehara",
      "userId": "11139280861294473555"
     },
     "user_tz": 180
    },
    "id": "KpUDAbxiYoay",
    "outputId": "cbac20a1-d1e9-4a25-c242-e24a0a761de4"
   },
   "outputs": [
    {
     "name": "stdout",
     "output_type": "stream",
     "text": [
      "Downloading data from https://storage.googleapis.com/tensorflow/keras-applications/vgg16/vgg16_weights_tf_dim_ordering_tf_kernels.h5\n",
      "553467096/553467096 [==============================] - 24s 0us/step\n",
      "Model: \"vgg16\"\n",
      "_________________________________________________________________\n",
      " Layer (type)                Output Shape              Param #   \n",
      "=================================================================\n",
      " input_1 (InputLayer)        [(None, 224, 224, 3)]     0         \n",
      "                                                                 \n",
      " block1_conv1 (Conv2D)       (None, 224, 224, 64)      1792      \n",
      "                                                                 \n",
      " block1_conv2 (Conv2D)       (None, 224, 224, 64)      36928     \n",
      "                                                                 \n",
      " block1_pool (MaxPooling2D)  (None, 112, 112, 64)      0         \n",
      "                                                                 \n",
      " block2_conv1 (Conv2D)       (None, 112, 112, 128)     73856     \n",
      "                                                                 \n",
      " block2_conv2 (Conv2D)       (None, 112, 112, 128)     147584    \n",
      "                                                                 \n",
      " block2_pool (MaxPooling2D)  (None, 56, 56, 128)       0         \n",
      "                                                                 \n",
      " block3_conv1 (Conv2D)       (None, 56, 56, 256)       295168    \n",
      "                                                                 \n",
      " block3_conv2 (Conv2D)       (None, 56, 56, 256)       590080    \n",
      "                                                                 \n",
      " block3_conv3 (Conv2D)       (None, 56, 56, 256)       590080    \n",
      "                                                                 \n",
      " block3_pool (MaxPooling2D)  (None, 28, 28, 256)       0         \n",
      "                                                                 \n",
      " block4_conv1 (Conv2D)       (None, 28, 28, 512)       1180160   \n",
      "                                                                 \n",
      " block4_conv2 (Conv2D)       (None, 28, 28, 512)       2359808   \n",
      "                                                                 \n",
      " block4_conv3 (Conv2D)       (None, 28, 28, 512)       2359808   \n",
      "                                                                 \n",
      " block4_pool (MaxPooling2D)  (None, 14, 14, 512)       0         \n",
      "                                                                 \n",
      " block5_conv1 (Conv2D)       (None, 14, 14, 512)       2359808   \n",
      "                                                                 \n",
      " block5_conv2 (Conv2D)       (None, 14, 14, 512)       2359808   \n",
      "                                                                 \n",
      " block5_conv3 (Conv2D)       (None, 14, 14, 512)       2359808   \n",
      "                                                                 \n",
      " block5_pool (MaxPooling2D)  (None, 7, 7, 512)         0         \n",
      "                                                                 \n",
      " flatten (Flatten)           (None, 25088)             0         \n",
      "                                                                 \n",
      " fc1 (Dense)                 (None, 4096)              102764544 \n",
      "                                                                 \n",
      " fc2 (Dense)                 (None, 4096)              16781312  \n",
      "                                                                 \n",
      " predictions (Dense)         (None, 1000)              4097000   \n",
      "                                                                 \n",
      "=================================================================\n",
      "Total params: 138,357,544\n",
      "Trainable params: 138,357,544\n",
      "Non-trainable params: 0\n",
      "_________________________________________________________________\n"
     ]
    }
   ],
   "source": [
    "vgg = keras.applications.VGG16(weights='imagenet', include_top=True)\n",
    "vgg.summary()"
   ]
  },
  {
   "cell_type": "markdown",
   "metadata": {
    "id": "hLXTofcNYoa2"
   },
   "source": [
    "Notice that VGG16 is _much_ bigger than the network we constructed earlier. It contains 13 convolutional layers and two fully connected layers at the end, and has over 138 million parameters, around 100 times as many parameters than the network we made above. Like our first network, the majority of the parameters are stored in the connections leading into the first fully-connected layer.\n",
    "\n",
    "VGG16 was made to solve ImageNet, and achieves a [8.8% top-5 error rate](https://github.com/jcjohnson/cnn-benchmarks), which means that 91.2% of test samples were classified correctly within the top 5 predictions for each image. It's top-1 accuracy--equivalent to the accuracy metric we've been using (that the top prediction is correct)--is 73%. This is especially impressive since there are not just 97, but 1000 classes, meaning that random guesses would get us only 0.1% accuracy.\n",
    "\n",
    "In order to use this network for our task, we \"remove\" the final classification layer, the 1000-neuron softmax layer at the end, which corresponds to ImageNet, and instead replace it with a new softmax layer for our dataset, which contains 97 neurons in the case of the 101_ObjectCategories dataset. \n",
    "\n",
    "In terms of implementation, it's easier to simply create a copy of VGG from its input layer until the second to last layer, and then work with that, rather than modifying the VGG object directly. So technically we never \"remove\" anything, we just circumvent/ignore it. This can be done in the following way, by using the keras `Model` class to initialize a new model whose input layer is the same as VGG but whose output layer is our new softmax layer, called `new_classification_layer`. Note: although it appears we are duplicating this large network, internally Keras is actually just copying all the layers by reference, and thus we don't need to worry about overloading the memory."
   ]
  },
  {
   "cell_type": "code",
   "execution_count": 20,
   "metadata": {
    "executionInfo": {
     "elapsed": 486,
     "status": "ok",
     "timestamp": 1673973191703,
     "user": {
      "displayName": "Gilberto Uehara",
      "userId": "11139280861294473555"
     },
     "user_tz": 180
    },
    "id": "rFL-fLitYoa3"
   },
   "outputs": [],
   "source": [
    "# make a reference to VGG's input layer\n",
    "inp = vgg.input\n",
    "\n",
    "# make a new softmax layer with num_classes neurons\n",
    "new_classification_layer = Dense(num_classes, activation='softmax')\n",
    "\n",
    "# connect our new layer to the second to last layer in VGG, and make a reference to it\n",
    "out = new_classification_layer(vgg.layers[-2].output)\n",
    "\n",
    "# create a new network between inp and out\n",
    "model_new = Model(inp, out)\n"
   ]
  },
  {
   "cell_type": "markdown",
   "metadata": {
    "id": "MBIp3fbQYoa9"
   },
   "source": [
    "We are going to retrain this network, `model_new` on the new dataset and labels. But first, we need to freeze the weights and biases in all the layers in the network, except our new one at the end, with the expectation that the features that were learned in VGG should still be fairly relevant to the new image classification task. Not optimal, but most likely better than what we can train to in our limited dataset. \n",
    "\n",
    "By setting the `trainable` flag in each layer false (except our new classification layer), we ensure all the weights and biases in those layers remain fixed, and we simply train the weights in the one layer at the end. In some cases, it is desirable to *not* freeze all the pre-classification layers. If your dataset has enough samples, and doesn't resemble ImageNet very much, it might be advantageous to fine-tune some of the VGG layers along with the new classifier, or possibly even all of them. To do this, you can change the below code to make more of the layers trainable.\n",
    "\n",
    "In the case of CalTech-101, we will just do feature extraction, fearing that fine-tuning too much with this dataset may overfit. But maybe we are wrong? A good exercise would be to try out both, and compare the results.\n",
    "\n",
    "So we go ahead and freeze the layers, and compile the new model with exactly the same optimizer and loss function as in our first network, for the sake of a fair comparison. We then run `summary` again to look at the network's architecture."
   ]
  },
  {
   "cell_type": "code",
   "execution_count": 21,
   "metadata": {
    "colab": {
     "base_uri": "https://localhost:8080/"
    },
    "executionInfo": {
     "elapsed": 464,
     "status": "ok",
     "timestamp": 1673973195516,
     "user": {
      "displayName": "Gilberto Uehara",
      "userId": "11139280861294473555"
     },
     "user_tz": 180
    },
    "id": "e_n5A8oGYoa9",
    "outputId": "e9056471-317d-4159-f6c2-0b417fec9f51"
   },
   "outputs": [
    {
     "name": "stdout",
     "output_type": "stream",
     "text": [
      "Model: \"model\"\n",
      "_________________________________________________________________\n",
      " Layer (type)                Output Shape              Param #   \n",
      "=================================================================\n",
      " input_1 (InputLayer)        [(None, 224, 224, 3)]     0         \n",
      "                                                                 \n",
      " block1_conv1 (Conv2D)       (None, 224, 224, 64)      1792      \n",
      "                                                                 \n",
      " block1_conv2 (Conv2D)       (None, 224, 224, 64)      36928     \n",
      "                                                                 \n",
      " block1_pool (MaxPooling2D)  (None, 112, 112, 64)      0         \n",
      "                                                                 \n",
      " block2_conv1 (Conv2D)       (None, 112, 112, 128)     73856     \n",
      "                                                                 \n",
      " block2_conv2 (Conv2D)       (None, 112, 112, 128)     147584    \n",
      "                                                                 \n",
      " block2_pool (MaxPooling2D)  (None, 56, 56, 128)       0         \n",
      "                                                                 \n",
      " block3_conv1 (Conv2D)       (None, 56, 56, 256)       295168    \n",
      "                                                                 \n",
      " block3_conv2 (Conv2D)       (None, 56, 56, 256)       590080    \n",
      "                                                                 \n",
      " block3_conv3 (Conv2D)       (None, 56, 56, 256)       590080    \n",
      "                                                                 \n",
      " block3_pool (MaxPooling2D)  (None, 28, 28, 256)       0         \n",
      "                                                                 \n",
      " block4_conv1 (Conv2D)       (None, 28, 28, 512)       1180160   \n",
      "                                                                 \n",
      " block4_conv2 (Conv2D)       (None, 28, 28, 512)       2359808   \n",
      "                                                                 \n",
      " block4_conv3 (Conv2D)       (None, 28, 28, 512)       2359808   \n",
      "                                                                 \n",
      " block4_pool (MaxPooling2D)  (None, 14, 14, 512)       0         \n",
      "                                                                 \n",
      " block5_conv1 (Conv2D)       (None, 14, 14, 512)       2359808   \n",
      "                                                                 \n",
      " block5_conv2 (Conv2D)       (None, 14, 14, 512)       2359808   \n",
      "                                                                 \n",
      " block5_conv3 (Conv2D)       (None, 14, 14, 512)       2359808   \n",
      "                                                                 \n",
      " block5_pool (MaxPooling2D)  (None, 7, 7, 512)         0         \n",
      "                                                                 \n",
      " flatten (Flatten)           (None, 25088)             0         \n",
      "                                                                 \n",
      " fc1 (Dense)                 (None, 4096)              102764544 \n",
      "                                                                 \n",
      " fc2 (Dense)                 (None, 4096)              16781312  \n",
      "                                                                 \n",
      " dense_2 (Dense)             (None, 2)                 8194      \n",
      "                                                                 \n",
      "=================================================================\n",
      "Total params: 134,268,738\n",
      "Trainable params: 8,194\n",
      "Non-trainable params: 134,260,544\n",
      "_________________________________________________________________\n"
     ]
    }
   ],
   "source": [
    "# make all layers untrainable by freezing weights (except for last layer)\n",
    "for l, layer in enumerate(model_new.layers[:-1]):\n",
    "    layer.trainable = False\n",
    "\n",
    "# ensure the last layer is trainable/not frozen\n",
    "for l, layer in enumerate(model_new.layers[-1:]):\n",
    "    layer.trainable = True\n",
    "\n",
    "model_new.compile(loss='categorical_crossentropy',\n",
    "              optimizer='adam',\n",
    "              metrics=['accuracy'])\n",
    "\n",
    "model_new.summary()"
   ]
  },
  {
   "cell_type": "markdown",
   "metadata": {
    "id": "8B9G0gC1YobD"
   },
   "source": [
    "Looking at the summary, we see the network is identical to the VGG model we instantiated earlier, except the last layer, formerly a 1000-neuron softmax, has been replaced by a new 97-neuron softmax. Additionally, we still have roughly 134 million weights, but now the vast majority of them are \"non-trainable params\" because we froze the layers they are contained in. We now only have 397,000 trainable parameters, which is actually only a quarter of the number of parameters needed to train the first model.\n",
    "\n",
    "As before, we go ahead and train the new model, using the same hyperparameters (batch size and number of epochs) as before, along with the same optimization algorithm. We also keep track of its history as we go."
   ]
  },
  {
   "cell_type": "code",
   "execution_count": 22,
   "metadata": {
    "colab": {
     "base_uri": "https://localhost:8080/"
    },
    "executionInfo": {
     "elapsed": 35715,
     "status": "ok",
     "timestamp": 1673973239663,
     "user": {
      "displayName": "Gilberto Uehara",
      "userId": "11139280861294473555"
     },
     "user_tz": 180
    },
    "id": "aDdq71XNYobD",
    "outputId": "8e939822-b984-4834-e8e3-d4cc38671dea"
   },
   "outputs": [
    {
     "name": "stdout",
     "output_type": "stream",
     "text": [
      "Epoch 1/10\n",
      "3/3 [==============================] - 20s 4s/step - loss: 1.2977 - accuracy: 0.4786 - val_loss: 1.1064 - val_accuracy: 0.4500\n",
      "Epoch 2/10\n",
      "3/3 [==============================] - 2s 556ms/step - loss: 1.0379 - accuracy: 0.5250 - val_loss: 0.7353 - val_accuracy: 0.5167\n",
      "Epoch 3/10\n",
      "3/3 [==============================] - 2s 554ms/step - loss: 0.7124 - accuracy: 0.5750 - val_loss: 0.8050 - val_accuracy: 0.5500\n",
      "Epoch 4/10\n",
      "3/3 [==============================] - 2s 549ms/step - loss: 0.7958 - accuracy: 0.5036 - val_loss: 0.7801 - val_accuracy: 0.5000\n",
      "Epoch 5/10\n",
      "3/3 [==============================] - 2s 560ms/step - loss: 0.7557 - accuracy: 0.5357 - val_loss: 0.6537 - val_accuracy: 0.5500\n",
      "Epoch 6/10\n",
      "3/3 [==============================] - 2s 556ms/step - loss: 0.5883 - accuracy: 0.6857 - val_loss: 0.5942 - val_accuracy: 0.5833\n",
      "Epoch 7/10\n",
      "3/3 [==============================] - 2s 553ms/step - loss: 0.6204 - accuracy: 0.5571 - val_loss: 0.5514 - val_accuracy: 0.7167\n",
      "Epoch 8/10\n",
      "3/3 [==============================] - 2s 558ms/step - loss: 0.5652 - accuracy: 0.6536 - val_loss: 0.5560 - val_accuracy: 0.6833\n",
      "Epoch 9/10\n",
      "3/3 [==============================] - 2s 560ms/step - loss: 0.5158 - accuracy: 0.7464 - val_loss: 0.4721 - val_accuracy: 0.8167\n",
      "Epoch 10/10\n",
      "3/3 [==============================] - 2s 558ms/step - loss: 0.5041 - accuracy: 0.7893 - val_loss: 0.4492 - val_accuracy: 0.8000\n"
     ]
    }
   ],
   "source": [
    "history2 = model_new.fit(x_train, y_train, \n",
    "                         batch_size=128, \n",
    "                         epochs=10, \n",
    "                         validation_data=(x_val, y_val))\n"
   ]
  },
  {
   "cell_type": "markdown",
   "metadata": {
    "id": "jPqJ0OM8YobI"
   },
   "source": [
    "Our validation accuracy hovers close to 80% towards the end, which is more than 30% improvement on the original network trained from scratch (meaning that we make the wrong prediction on 20% of samples, rather than 50%). \n",
    "\n",
    "It's worth noting also that this network actually trains _slightly faster_ than the original network, despite having more than 100 times as many parameters! This is because freezing the weights negates the need to backpropagate through all those layers, saving us on runtime.\n",
    "\n",
    "Let's plot the validation loss and accuracy again, this time comparing the original model trained from scratch (in blue) and the new transfer-learned model in green."
   ]
  },
  {
   "cell_type": "code",
   "execution_count": 24,
   "metadata": {
    "colab": {
     "base_uri": "https://localhost:8080/",
     "height": 295
    },
    "executionInfo": {
     "elapsed": 868,
     "status": "ok",
     "timestamp": 1673973261163,
     "user": {
      "displayName": "Gilberto Uehara",
      "userId": "11139280861294473555"
     },
     "user_tz": 180
    },
    "id": "SHLdHnuuYobJ",
    "outputId": "d7df5cd9-9599-40fa-fb37-e48b3dc3a52c"
   },
   "outputs": [
    {
     "data": {
      "image/png": "[encoded data removed]",
      "text/plain": [
       "<Figure size 1152x288 with 1 Axes>"
      ]
     },
     "metadata": {
      "needs_background": "light"
     },
     "output_type": "display_data"
    }
   ],
   "source": [
    "fig = plt.figure(figsize=(16,4))\n",
    "ax = fig.add_subplot(121)\n",
    "ax.plot(history.history[\"val_loss\"])\n",
    "ax.plot(history2.history[\"val_loss\"])\n",
    "ax.set_title(\"validation loss\")\n",
    "ax.set_xlabel(\"epochs\")\n",
    "\n",
    "#ax2 = fig.add_subplot(122)\n",
    "#ax2.plot(history.history[\"val_acc\"])\n",
    "#ax2.plot(history2.history[\"val_acc\"])\n",
    "#ax2.set_title(\"validation accuracy\")\n",
    "#ax2.set_xlabel(\"epochs\")\n",
    "#ax2.set_ylim(0, 1)\n",
    "\n",
    "plt.show()"
   ]
  },
  {
   "cell_type": "markdown",
   "metadata": {
    "id": "vXjfVTVIYobM"
   },
   "source": [
    "Notice that whereas the original model began overfitting around epoch 16, the new model continued to slowly decrease its loss over time, and likely would have improved its accuracy slightly with more iterations. The new model made it to roughly 80% top-1 accuracy (in the validation set) and continued to improve slowly through 100 epochs.\n",
    "\n",
    "It's possibly we could have improved the original model with better regularization or more dropout, but we surely would not have made up the >30% improvement in accuracy. \n",
    "\n",
    "Again, we do a final validation on the test set."
   ]
  },
  {
   "cell_type": "code",
   "execution_count": 25,
   "metadata": {
    "colab": {
     "base_uri": "https://localhost:8080/"
    },
    "executionInfo": {
     "elapsed": 6610,
     "status": "ok",
     "timestamp": 1673973272212,
     "user": {
      "displayName": "Gilberto Uehara",
      "userId": "11139280861294473555"
     },
     "user_tz": 180
    },
    "id": "zMxC6Pd1YobN",
    "outputId": "3e72e871-4572-4fa6-8c0c-f1dc3d04bc53"
   },
   "outputs": [
    {
     "name": "stdout",
     "output_type": "stream",
     "text": [
      "Test loss: 0.49728330969810486\n",
      "Test accuracy: 0.7666666507720947\n"
     ]
    }
   ],
   "source": [
    "loss, accuracy = model_new.evaluate(x_test, y_test, verbose=0)\n",
    "\n",
    "print('Test loss:', loss)\n",
    "print('Test accuracy:', accuracy)"
   ]
  },
  {
   "cell_type": "markdown",
   "metadata": {
    "id": "4iUykardYobR"
   },
   "source": [
    "To predict a new image, simply run the following code to get the probabilities for each class."
   ]
  },
  {
   "cell_type": "code",
   "execution_count": 28,
   "metadata": {
    "colab": {
     "base_uri": "https://localhost:8080/"
    },
    "executionInfo": {
     "elapsed": 1006,
     "status": "ok",
     "timestamp": 1673973352006,
     "user": {
      "displayName": "Gilberto Uehara",
      "userId": "11139280861294473555"
     },
     "user_tz": 180
    },
    "id": "YpRcsywEYobT",
    "outputId": "dfc32395-4969-4efb-d302-8db836c86cd1"
   },
   "outputs": [
    {
     "name": "stdout",
     "output_type": "stream",
     "text": [
      "1/1 [==============================] - 1s 830ms/step\n"
     ]
    }
   ],
   "source": [
    "img, x = get_image('/tmp/PetImages/Cat/6391.jpg')\n",
    "probabilities = model_new.predict([x])\n"
   ]
  },
  {
   "cell_type": "markdown",
   "metadata": {
    "id": "f2ahKv8XYobY"
   },
   "source": [
    "### Improving the results\n",
    "\n",
    "78.2% top-1 accuracy on 97 classes, roughly evenly distributed, is a pretty good achievement. It is not quite as impressive as the original VGG16 which achieved 73% top-1 accuracy on 1000 classes. Nevertheless, it is much better than what we were able to achieve with our original network, and there is room for improvement. Some techniques which possibly could have improved our performance.\n",
    "\n",
    "- Using data augementation: augmentation refers to using various modifications of the original training data, in the form of distortions, rotations, rescalings, lighting changes, etc to increase the size of the training set and create more tolerance for such distortions.\n",
    "- Using a different optimizer, adding more regularization/dropout, and other hyperparameters.\n",
    "- Training for longer (of course)\n",
    "\n",
    "A more advanced example of transfer learning in Keras, involving augmentation for a small 2-class dataset, can be found in the [Keras blog](https://blog.keras.io/building-powerful-image-classification-models-using-very-little-data.html)."
   ]
  }
 ],
 "metadata": {
  "accelerator": "GPU",
  "colab": {
   "provenance": [
    {
     "file_id": "https://github.com/kylemath/ml4a-guides/blob/master/notebooks/transfer-learning.ipynb",
     "timestamp": 1673318021956
    }
   ]
  },
  "kernelspec": {
   "display_name": "Python 3 (ipykernel)",
   "language": "python",
   "name": "python3"
  },
  "language_info": {
   "codemirror_mode": {
    "name": "ipython",
    "version": 3
   },
   "file_extension": ".py",
   "mimetype": "text/x-python",
   "name": "python",
   "nbconvert_exporter": "python",
   "pygments_lexer": "ipython3",
   "version": "3.10.9"
  }
 },
 "nbformat": 4,
 "nbformat_minor": 1
}
